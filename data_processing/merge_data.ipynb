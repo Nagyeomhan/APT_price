{
 "cells": [
  {
   "cell_type": "code",
   "execution_count": 38,
   "metadata": {},
   "outputs": [],
   "source": [
    "import pandas as pd\n",
    "import numpy as np\n",
    "import matplotlib.pyplot as plt"
   ]
  },
  {
   "cell_type": "code",
   "execution_count": 39,
   "metadata": {},
   "outputs": [],
   "source": [
    "from matplotlib import font_manager,rc\n",
    "import seaborn as sns\n",
    "\n",
    "font_path = \"C:/Windows/Fonts/H2GTRM.TTF\"\n",
    "font = font_manager.FontProperties(fname=font_path).get_name()\n",
    "plt.rcParams['axes.unicode_minus'] = False\n",
    "rc('font',family=font) "
   ]
  },
  {
   "cell_type": "code",
   "execution_count": 51,
   "metadata": {},
   "outputs": [],
   "source": [
    "work = pd.read_csv('../data/경제활동인구_시도_handling.csv',index_col=0,encoding='utf-8')\n",
    "salary = pd.read_csv('../data/월평균_임금_handling.csv',index_col=0,encoding='utf-8')\n",
    "people = pd.read_csv('../data/시도별_인구수_데이터_handling.csv',index_col=0,encoding='utf-8')\n",
    "df = pd.read_csv('../data/지역별_연도별_평당_분양_가격.csv',index_col=0,encoding='utf-8')"
   ]
  },
  {
   "cell_type": "code",
   "execution_count": 52,
   "metadata": {},
   "outputs": [
    {
     "data": {
      "text/plain": [
       "array(['서울특별시', '부산광역시', '대구광역시', '인천광역시', '광주광역시', '대전광역시', '울산광역시',\n",
       "       '세종특별자치시', '경기도', '강원도', '충청북도', '충청남도', '전라북도', '전라남도', '경상북도',\n",
       "       '경상남도', '제주특별자치도'], dtype=object)"
      ]
     },
     "execution_count": 52,
     "metadata": {},
     "output_type": "execute_result"
    }
   ],
   "source": [
    "# 행정구역명 통일시키기\n",
    "people.행정구역.unique()"
   ]
  },
  {
   "cell_type": "code",
   "execution_count": 53,
   "metadata": {},
   "outputs": [
    {
     "data": {
      "text/plain": [
       "array(['서울특별시', '부산광역시', '대구광역시', '인천광역시', '광주광역시', '대전광역시', '울산광역시',\n",
       "       '세종특별자치시', '경기도', '강원도', '충청북도', '충청남도', '전라북도', '전라남도', '경상북도',\n",
       "       '경상남도', '제주도'], dtype=object)"
      ]
     },
     "execution_count": 53,
     "metadata": {},
     "output_type": "execute_result"
    }
   ],
   "source": [
    "work.행정구역.unique()"
   ]
  },
  {
   "cell_type": "code",
   "execution_count": 55,
   "metadata": {},
   "outputs": [
    {
     "data": {
      "text/plain": [
       "array(['서울', '부산', '대구', '인천', '광주', '대전', '울산', '경기', '세종', '강원', '충북',\n",
       "       '충남', '전북', '전남', '경북', '경남', '제주'], dtype=object)"
      ]
     },
     "execution_count": 55,
     "metadata": {},
     "output_type": "execute_result"
    }
   ],
   "source": [
    "df.지역명.unique()"
   ]
  },
  {
   "cell_type": "code",
   "execution_count": 56,
   "metadata": {},
   "outputs": [],
   "source": [
    "# 지역명 바꿔주기\n",
    "df.지역명 = df.지역명.replace({\n",
    "    '서울':'서울특별시',\n",
    "    '부산':'부산광역시',\n",
    "    '대구':'대구광역시',\n",
    "    '인천':'인천광역시', \n",
    "    '광주':'광주광역시', \n",
    "    '대전':'대전광역시', \n",
    "    '울산':'울산광역시',       \n",
    "    '세종':'세종특별자치시', \n",
    "    '경기':'경기도', \n",
    "    '강원':'강원도', \n",
    "    '충북':'충청북도',\n",
    "    '충남':'충청남도', \n",
    "    '전북':'전라북도', \n",
    "    '전남':'전라남도', \n",
    "    '경북':'경상북도',\n",
    "    '경남':'경상남도', \n",
    "    '제주':'제주특별자치도'\n",
    "    })"
   ]
  },
  {
   "cell_type": "code",
   "execution_count": 57,
   "metadata": {},
   "outputs": [],
   "source": [
    "# '지역명'을 '행정구역'으로 통일\n",
    "df = df.rename(columns={'지역명':'행정구역'})"
   ]
  },
  {
   "cell_type": "code",
   "execution_count": 58,
   "metadata": {},
   "outputs": [
    {
     "data": {
      "text/html": [
       "<div>\n",
       "<style scoped>\n",
       "    .dataframe tbody tr th:only-of-type {\n",
       "        vertical-align: middle;\n",
       "    }\n",
       "\n",
       "    .dataframe tbody tr th {\n",
       "        vertical-align: top;\n",
       "    }\n",
       "\n",
       "    .dataframe thead th {\n",
       "        text-align: right;\n",
       "    }\n",
       "</style>\n",
       "<table border=\"1\" class=\"dataframe\">\n",
       "  <thead>\n",
       "    <tr style=\"text-align: right;\">\n",
       "      <th></th>\n",
       "      <th>행정구역</th>\n",
       "      <th>연도</th>\n",
       "      <th>월</th>\n",
       "      <th>평당분양가격</th>\n",
       "    </tr>\n",
       "  </thead>\n",
       "  <tbody>\n",
       "    <tr>\n",
       "      <th>0</th>\n",
       "      <td>서울특별시</td>\n",
       "      <td>2013</td>\n",
       "      <td>12</td>\n",
       "      <td>18189.0</td>\n",
       "    </tr>\n",
       "    <tr>\n",
       "      <th>1</th>\n",
       "      <td>부산광역시</td>\n",
       "      <td>2013</td>\n",
       "      <td>12</td>\n",
       "      <td>8111.0</td>\n",
       "    </tr>\n",
       "    <tr>\n",
       "      <th>2</th>\n",
       "      <td>대구광역시</td>\n",
       "      <td>2013</td>\n",
       "      <td>12</td>\n",
       "      <td>8080.0</td>\n",
       "    </tr>\n",
       "    <tr>\n",
       "      <th>3</th>\n",
       "      <td>인천광역시</td>\n",
       "      <td>2013</td>\n",
       "      <td>12</td>\n",
       "      <td>10204.0</td>\n",
       "    </tr>\n",
       "    <tr>\n",
       "      <th>4</th>\n",
       "      <td>광주광역시</td>\n",
       "      <td>2013</td>\n",
       "      <td>12</td>\n",
       "      <td>6098.0</td>\n",
       "    </tr>\n",
       "    <tr>\n",
       "      <th>...</th>\n",
       "      <td>...</td>\n",
       "      <td>...</td>\n",
       "      <td>...</td>\n",
       "      <td>...</td>\n",
       "    </tr>\n",
       "    <tr>\n",
       "      <th>1610</th>\n",
       "      <td>전라북도</td>\n",
       "      <td>2021</td>\n",
       "      <td>11</td>\n",
       "      <td>8976.0</td>\n",
       "    </tr>\n",
       "    <tr>\n",
       "      <th>1611</th>\n",
       "      <td>전라남도</td>\n",
       "      <td>2021</td>\n",
       "      <td>11</td>\n",
       "      <td>9764.7</td>\n",
       "    </tr>\n",
       "    <tr>\n",
       "      <th>1612</th>\n",
       "      <td>경상북도</td>\n",
       "      <td>2021</td>\n",
       "      <td>11</td>\n",
       "      <td>10434.6</td>\n",
       "    </tr>\n",
       "    <tr>\n",
       "      <th>1613</th>\n",
       "      <td>경상남도</td>\n",
       "      <td>2021</td>\n",
       "      <td>11</td>\n",
       "      <td>10692.0</td>\n",
       "    </tr>\n",
       "    <tr>\n",
       "      <th>1614</th>\n",
       "      <td>제주특별자치도</td>\n",
       "      <td>2021</td>\n",
       "      <td>11</td>\n",
       "      <td>22638.0</td>\n",
       "    </tr>\n",
       "  </tbody>\n",
       "</table>\n",
       "<p>1615 rows × 4 columns</p>\n",
       "</div>"
      ],
      "text/plain": [
       "         행정구역    연도   월   평당분양가격\n",
       "0       서울특별시  2013  12  18189.0\n",
       "1       부산광역시  2013  12   8111.0\n",
       "2       대구광역시  2013  12   8080.0\n",
       "3       인천광역시  2013  12  10204.0\n",
       "4       광주광역시  2013  12   6098.0\n",
       "...       ...   ...  ..      ...\n",
       "1610     전라북도  2021  11   8976.0\n",
       "1611     전라남도  2021  11   9764.7\n",
       "1612     경상북도  2021  11  10434.6\n",
       "1613     경상남도  2021  11  10692.0\n",
       "1614  제주특별자치도  2021  11  22638.0\n",
       "\n",
       "[1615 rows x 4 columns]"
      ]
     },
     "execution_count": 58,
     "metadata": {},
     "output_type": "execute_result"
    }
   ],
   "source": [
    "df"
   ]
  },
  {
   "cell_type": "code",
   "execution_count": 59,
   "metadata": {},
   "outputs": [],
   "source": [
    "work.행정구역 = work.행정구역.replace({'제주도':'제주특별자치도'})"
   ]
  },
  {
   "cell_type": "code",
   "execution_count": 60,
   "metadata": {},
   "outputs": [
    {
     "data": {
      "text/html": [
       "<div>\n",
       "<style scoped>\n",
       "    .dataframe tbody tr th:only-of-type {\n",
       "        vertical-align: middle;\n",
       "    }\n",
       "\n",
       "    .dataframe tbody tr th {\n",
       "        vertical-align: top;\n",
       "    }\n",
       "\n",
       "    .dataframe thead th {\n",
       "        text-align: right;\n",
       "    }\n",
       "</style>\n",
       "<table border=\"1\" class=\"dataframe\">\n",
       "  <thead>\n",
       "    <tr style=\"text-align: right;\">\n",
       "      <th></th>\n",
       "      <th>행정구역</th>\n",
       "      <th>년도</th>\n",
       "      <th>인구수</th>\n",
       "    </tr>\n",
       "  </thead>\n",
       "  <tbody>\n",
       "    <tr>\n",
       "      <th>0</th>\n",
       "      <td>서울특별시</td>\n",
       "      <td>2010</td>\n",
       "      <td>5308000</td>\n",
       "    </tr>\n",
       "    <tr>\n",
       "      <th>1</th>\n",
       "      <td>부산광역시</td>\n",
       "      <td>2010</td>\n",
       "      <td>1659000</td>\n",
       "    </tr>\n",
       "    <tr>\n",
       "      <th>2</th>\n",
       "      <td>대구광역시</td>\n",
       "      <td>2010</td>\n",
       "      <td>1212000</td>\n",
       "    </tr>\n",
       "    <tr>\n",
       "      <th>3</th>\n",
       "      <td>인천광역시</td>\n",
       "      <td>2010</td>\n",
       "      <td>1402000</td>\n",
       "    </tr>\n",
       "    <tr>\n",
       "      <th>4</th>\n",
       "      <td>광주광역시</td>\n",
       "      <td>2010</td>\n",
       "      <td>705000</td>\n",
       "    </tr>\n",
       "    <tr>\n",
       "      <th>...</th>\n",
       "      <td>...</td>\n",
       "      <td>...</td>\n",
       "      <td>...</td>\n",
       "    </tr>\n",
       "    <tr>\n",
       "      <th>199</th>\n",
       "      <td>전라북도</td>\n",
       "      <td>2021</td>\n",
       "      <td>974000</td>\n",
       "    </tr>\n",
       "    <tr>\n",
       "      <th>200</th>\n",
       "      <td>전라남도</td>\n",
       "      <td>2021</td>\n",
       "      <td>1008000</td>\n",
       "    </tr>\n",
       "    <tr>\n",
       "      <th>201</th>\n",
       "      <td>경상북도</td>\n",
       "      <td>2021</td>\n",
       "      <td>1457000</td>\n",
       "    </tr>\n",
       "    <tr>\n",
       "      <th>202</th>\n",
       "      <td>경상남도</td>\n",
       "      <td>2021</td>\n",
       "      <td>1805000</td>\n",
       "    </tr>\n",
       "    <tr>\n",
       "      <th>203</th>\n",
       "      <td>제주특별자치도</td>\n",
       "      <td>2021</td>\n",
       "      <td>395000</td>\n",
       "    </tr>\n",
       "  </tbody>\n",
       "</table>\n",
       "<p>204 rows × 3 columns</p>\n",
       "</div>"
      ],
      "text/plain": [
       "        행정구역    년도      인구수\n",
       "0      서울특별시  2010  5308000\n",
       "1      부산광역시  2010  1659000\n",
       "2      대구광역시  2010  1212000\n",
       "3      인천광역시  2010  1402000\n",
       "4      광주광역시  2010   705000\n",
       "..       ...   ...      ...\n",
       "199     전라북도  2021   974000\n",
       "200     전라남도  2021  1008000\n",
       "201     경상북도  2021  1457000\n",
       "202     경상남도  2021  1805000\n",
       "203  제주특별자치도  2021   395000\n",
       "\n",
       "[204 rows x 3 columns]"
      ]
     },
     "execution_count": 60,
     "metadata": {},
     "output_type": "execute_result"
    }
   ],
   "source": [
    "work"
   ]
  },
  {
   "cell_type": "code",
   "execution_count": 67,
   "metadata": {},
   "outputs": [],
   "source": [
    "# 열 이름을 통일\n",
    "work.rename(columns={'년도':'연도','인구수':'경제활동인구'},inplace=True)\n",
    "people.rename(columns={'년도':'연도'},inplace=True)\n",
    "salary.rename(columns={'년도':'연도'},inplace=True)"
   ]
  },
  {
   "cell_type": "code",
   "execution_count": 76,
   "metadata": {},
   "outputs": [],
   "source": [
    "# 파일형식도 통일\n",
    "df.연도 = df.연도.astype(str)\n",
    "work.연도 = work.연도.astype(str)\n",
    "people.연도 = people.연도.astype(str)\n",
    "salary.연도 = salary.연도.astype(str)"
   ]
  },
  {
   "cell_type": "code",
   "execution_count": 77,
   "metadata": {},
   "outputs": [
    {
     "name": "stdout",
     "output_type": "stream",
     "text": [
      "<class 'pandas.core.frame.DataFrame'>\n",
      "Int64Index: 1615 entries, 0 to 1614\n",
      "Data columns (total 4 columns):\n",
      " #   Column  Non-Null Count  Dtype  \n",
      "---  ------  --------------  -----  \n",
      " 0   행정구역    1615 non-null   object \n",
      " 1   연도      1615 non-null   object \n",
      " 2   월       1615 non-null   int64  \n",
      " 3   평당분양가격  1600 non-null   float64\n",
      "dtypes: float64(1), int64(1), object(2)\n",
      "memory usage: 63.1+ KB\n"
     ]
    }
   ],
   "source": [
    "df.info()"
   ]
  },
  {
   "cell_type": "code",
   "execution_count": 78,
   "metadata": {},
   "outputs": [
    {
     "name": "stdout",
     "output_type": "stream",
     "text": [
      "<class 'pandas.core.frame.DataFrame'>\n",
      "Int64Index: 204 entries, 0 to 203\n",
      "Data columns (total 3 columns):\n",
      " #   Column  Non-Null Count  Dtype \n",
      "---  ------  --------------  ----- \n",
      " 0   행정구역    204 non-null    object\n",
      " 1   연도      204 non-null    object\n",
      " 2   경제활동인구  204 non-null    int64 \n",
      "dtypes: int64(1), object(2)\n",
      "memory usage: 6.4+ KB\n"
     ]
    }
   ],
   "source": [
    "work.info()"
   ]
  },
  {
   "cell_type": "code",
   "execution_count": 79,
   "metadata": {},
   "outputs": [
    {
     "name": "stdout",
     "output_type": "stream",
     "text": [
      "<class 'pandas.core.frame.DataFrame'>\n",
      "Int64Index: 204 entries, 0 to 203\n",
      "Data columns (total 3 columns):\n",
      " #   Column  Non-Null Count  Dtype \n",
      "---  ------  --------------  ----- \n",
      " 0   행정구역    204 non-null    object\n",
      " 1   연도      204 non-null    object\n",
      " 2   인구수     204 non-null    int64 \n",
      "dtypes: int64(1), object(2)\n",
      "memory usage: 6.4+ KB\n"
     ]
    }
   ],
   "source": [
    "people.info()"
   ]
  },
  {
   "cell_type": "code",
   "execution_count": 80,
   "metadata": {},
   "outputs": [
    {
     "name": "stdout",
     "output_type": "stream",
     "text": [
      "<class 'pandas.core.frame.DataFrame'>\n",
      "Int64Index: 187 entries, 0 to 186\n",
      "Data columns (total 3 columns):\n",
      " #   Column  Non-Null Count  Dtype \n",
      "---  ------  --------------  ----- \n",
      " 0   행정구역    187 non-null    object\n",
      " 1   연도      187 non-null    object\n",
      " 2   소득      187 non-null    int64 \n",
      "dtypes: int64(1), object(2)\n",
      "memory usage: 5.8+ KB\n"
     ]
    }
   ],
   "source": [
    "salary.info()"
   ]
  },
  {
   "cell_type": "code",
   "execution_count": 81,
   "metadata": {},
   "outputs": [
    {
     "data": {
      "text/html": [
       "<div>\n",
       "<style scoped>\n",
       "    .dataframe tbody tr th:only-of-type {\n",
       "        vertical-align: middle;\n",
       "    }\n",
       "\n",
       "    .dataframe tbody tr th {\n",
       "        vertical-align: top;\n",
       "    }\n",
       "\n",
       "    .dataframe thead th {\n",
       "        text-align: right;\n",
       "    }\n",
       "</style>\n",
       "<table border=\"1\" class=\"dataframe\">\n",
       "  <thead>\n",
       "    <tr style=\"text-align: right;\">\n",
       "      <th></th>\n",
       "      <th>행정구역</th>\n",
       "      <th>연도</th>\n",
       "      <th>월</th>\n",
       "      <th>평당분양가격</th>\n",
       "      <th>경제활동인구</th>\n",
       "    </tr>\n",
       "  </thead>\n",
       "  <tbody>\n",
       "    <tr>\n",
       "      <th>0</th>\n",
       "      <td>서울특별시</td>\n",
       "      <td>2013</td>\n",
       "      <td>12</td>\n",
       "      <td>18189.0</td>\n",
       "      <td>5355000</td>\n",
       "    </tr>\n",
       "  </tbody>\n",
       "</table>\n",
       "</div>"
      ],
      "text/plain": [
       "    행정구역    연도   월   평당분양가격   경제활동인구\n",
       "0  서울특별시  2013  12  18189.0  5355000"
      ]
     },
     "execution_count": 81,
     "metadata": {},
     "output_type": "execute_result"
    }
   ],
   "source": [
    "# 기준 데이터 'df'에 순차적으로 merge 함\n",
    "df = df.merge(work, how='left', on=['연도','행정구역'])\n",
    "df.head(1)"
   ]
  },
  {
   "cell_type": "code",
   "execution_count": 82,
   "metadata": {},
   "outputs": [
    {
     "data": {
      "text/html": [
       "<div>\n",
       "<style scoped>\n",
       "    .dataframe tbody tr th:only-of-type {\n",
       "        vertical-align: middle;\n",
       "    }\n",
       "\n",
       "    .dataframe tbody tr th {\n",
       "        vertical-align: top;\n",
       "    }\n",
       "\n",
       "    .dataframe thead th {\n",
       "        text-align: right;\n",
       "    }\n",
       "</style>\n",
       "<table border=\"1\" class=\"dataframe\">\n",
       "  <thead>\n",
       "    <tr style=\"text-align: right;\">\n",
       "      <th></th>\n",
       "      <th>행정구역</th>\n",
       "      <th>연도</th>\n",
       "      <th>월</th>\n",
       "      <th>평당분양가격</th>\n",
       "      <th>경제활동인구</th>\n",
       "      <th>인구수</th>\n",
       "    </tr>\n",
       "  </thead>\n",
       "  <tbody>\n",
       "    <tr>\n",
       "      <th>0</th>\n",
       "      <td>서울특별시</td>\n",
       "      <td>2013</td>\n",
       "      <td>12</td>\n",
       "      <td>18189.0</td>\n",
       "      <td>5355000</td>\n",
       "      <td>9990010</td>\n",
       "    </tr>\n",
       "  </tbody>\n",
       "</table>\n",
       "</div>"
      ],
      "text/plain": [
       "    행정구역    연도   월   평당분양가격   경제활동인구      인구수\n",
       "0  서울특별시  2013  12  18189.0  5355000  9990010"
      ]
     },
     "execution_count": 82,
     "metadata": {},
     "output_type": "execute_result"
    }
   ],
   "source": [
    "df = df.merge(people, how='left', on=['연도','행정구역'])\n",
    "df.head(1)"
   ]
  },
  {
   "cell_type": "code",
   "execution_count": 83,
   "metadata": {},
   "outputs": [
    {
     "data": {
      "text/html": [
       "<div>\n",
       "<style scoped>\n",
       "    .dataframe tbody tr th:only-of-type {\n",
       "        vertical-align: middle;\n",
       "    }\n",
       "\n",
       "    .dataframe tbody tr th {\n",
       "        vertical-align: top;\n",
       "    }\n",
       "\n",
       "    .dataframe thead th {\n",
       "        text-align: right;\n",
       "    }\n",
       "</style>\n",
       "<table border=\"1\" class=\"dataframe\">\n",
       "  <thead>\n",
       "    <tr style=\"text-align: right;\">\n",
       "      <th></th>\n",
       "      <th>행정구역</th>\n",
       "      <th>연도</th>\n",
       "      <th>월</th>\n",
       "      <th>평당분양가격</th>\n",
       "      <th>경제활동인구</th>\n",
       "      <th>인구수</th>\n",
       "      <th>소득</th>\n",
       "    </tr>\n",
       "  </thead>\n",
       "  <tbody>\n",
       "    <tr>\n",
       "      <th>0</th>\n",
       "      <td>서울특별시</td>\n",
       "      <td>2013</td>\n",
       "      <td>12</td>\n",
       "      <td>18189.0</td>\n",
       "      <td>5355000</td>\n",
       "      <td>9990010</td>\n",
       "      <td>316</td>\n",
       "    </tr>\n",
       "  </tbody>\n",
       "</table>\n",
       "</div>"
      ],
      "text/plain": [
       "    행정구역    연도   월   평당분양가격   경제활동인구      인구수   소득\n",
       "0  서울특별시  2013  12  18189.0  5355000  9990010  316"
      ]
     },
     "execution_count": 83,
     "metadata": {},
     "output_type": "execute_result"
    }
   ],
   "source": [
    "df = df.merge(salary, how='left', on=['연도','행정구역'])\n",
    "df.head(1)"
   ]
  },
  {
   "cell_type": "code",
   "execution_count": 23,
   "metadata": {},
   "outputs": [],
   "source": [
    "# 열 제정렬 및 csv 형태로 저장\n",
    "df_test = df[['행정구역','연도','월','평당분양가격','인구수','경제활동인구','소득']]\n",
    "df_test.to_csv('../data/지역별_연도별_비교데이터_합본.csv',encoding='utf-8')"
   ]
  },
  {
   "cell_type": "code",
   "execution_count": 24,
   "metadata": {},
   "outputs": [
    {
     "data": {
      "text/html": [
       "<div>\n",
       "<style scoped>\n",
       "    .dataframe tbody tr th:only-of-type {\n",
       "        vertical-align: middle;\n",
       "    }\n",
       "\n",
       "    .dataframe tbody tr th {\n",
       "        vertical-align: top;\n",
       "    }\n",
       "\n",
       "    .dataframe thead th {\n",
       "        text-align: right;\n",
       "    }\n",
       "</style>\n",
       "<table border=\"1\" class=\"dataframe\">\n",
       "  <thead>\n",
       "    <tr style=\"text-align: right;\">\n",
       "      <th></th>\n",
       "      <th>행정구역</th>\n",
       "      <th>연도</th>\n",
       "      <th>월</th>\n",
       "      <th>평당분양가격</th>\n",
       "      <th>인구수</th>\n",
       "      <th>경제활동인구</th>\n",
       "      <th>소득</th>\n",
       "    </tr>\n",
       "  </thead>\n",
       "  <tbody>\n",
       "    <tr>\n",
       "      <th>0</th>\n",
       "      <td>서울특별시</td>\n",
       "      <td>2013</td>\n",
       "      <td>12</td>\n",
       "      <td>18189.0</td>\n",
       "      <td>9990010</td>\n",
       "      <td>5355000</td>\n",
       "      <td>316</td>\n",
       "    </tr>\n",
       "    <tr>\n",
       "      <th>1</th>\n",
       "      <td>부산광역시</td>\n",
       "      <td>2013</td>\n",
       "      <td>12</td>\n",
       "      <td>8111.0</td>\n",
       "      <td>3455734</td>\n",
       "      <td>1737000</td>\n",
       "      <td>252</td>\n",
       "    </tr>\n",
       "    <tr>\n",
       "      <th>2</th>\n",
       "      <td>대구광역시</td>\n",
       "      <td>2013</td>\n",
       "      <td>12</td>\n",
       "      <td>8080.0</td>\n",
       "      <td>2475657</td>\n",
       "      <td>1246000</td>\n",
       "      <td>231</td>\n",
       "    </tr>\n",
       "    <tr>\n",
       "      <th>3</th>\n",
       "      <td>인천광역시</td>\n",
       "      <td>2013</td>\n",
       "      <td>12</td>\n",
       "      <td>10204.0</td>\n",
       "      <td>2829608</td>\n",
       "      <td>1511000</td>\n",
       "      <td>260</td>\n",
       "    </tr>\n",
       "    <tr>\n",
       "      <th>4</th>\n",
       "      <td>광주광역시</td>\n",
       "      <td>2013</td>\n",
       "      <td>12</td>\n",
       "      <td>6098.0</td>\n",
       "      <td>1503835</td>\n",
       "      <td>727000</td>\n",
       "      <td>241</td>\n",
       "    </tr>\n",
       "    <tr>\n",
       "      <th>...</th>\n",
       "      <td>...</td>\n",
       "      <td>...</td>\n",
       "      <td>...</td>\n",
       "      <td>...</td>\n",
       "      <td>...</td>\n",
       "      <td>...</td>\n",
       "      <td>...</td>\n",
       "    </tr>\n",
       "    <tr>\n",
       "      <th>1610</th>\n",
       "      <td>전라북도</td>\n",
       "      <td>2021</td>\n",
       "      <td>11</td>\n",
       "      <td>8976.0</td>\n",
       "      <td>1794192</td>\n",
       "      <td>974000</td>\n",
       "      <td>308</td>\n",
       "    </tr>\n",
       "    <tr>\n",
       "      <th>1611</th>\n",
       "      <td>전라남도</td>\n",
       "      <td>2021</td>\n",
       "      <td>11</td>\n",
       "      <td>9764.7</td>\n",
       "      <td>1782951</td>\n",
       "      <td>1008000</td>\n",
       "      <td>335</td>\n",
       "    </tr>\n",
       "    <tr>\n",
       "      <th>1612</th>\n",
       "      <td>경상북도</td>\n",
       "      <td>2021</td>\n",
       "      <td>11</td>\n",
       "      <td>10434.6</td>\n",
       "      <td>2640965</td>\n",
       "      <td>1457000</td>\n",
       "      <td>345</td>\n",
       "    </tr>\n",
       "    <tr>\n",
       "      <th>1613</th>\n",
       "      <td>경상남도</td>\n",
       "      <td>2021</td>\n",
       "      <td>11</td>\n",
       "      <td>10692.0</td>\n",
       "      <td>3317568</td>\n",
       "      <td>1805000</td>\n",
       "      <td>339</td>\n",
       "    </tr>\n",
       "    <tr>\n",
       "      <th>1614</th>\n",
       "      <td>제주특별자치도</td>\n",
       "      <td>2021</td>\n",
       "      <td>11</td>\n",
       "      <td>22638.0</td>\n",
       "      <td>673189</td>\n",
       "      <td>395000</td>\n",
       "      <td>290</td>\n",
       "    </tr>\n",
       "  </tbody>\n",
       "</table>\n",
       "<p>1615 rows × 7 columns</p>\n",
       "</div>"
      ],
      "text/plain": [
       "         행정구역    연도   월   평당분양가격      인구수   경제활동인구   소득\n",
       "0       서울특별시  2013  12  18189.0  9990010  5355000  316\n",
       "1       부산광역시  2013  12   8111.0  3455734  1737000  252\n",
       "2       대구광역시  2013  12   8080.0  2475657  1246000  231\n",
       "3       인천광역시  2013  12  10204.0  2829608  1511000  260\n",
       "4       광주광역시  2013  12   6098.0  1503835   727000  241\n",
       "...       ...   ...  ..      ...      ...      ...  ...\n",
       "1610     전라북도  2021  11   8976.0  1794192   974000  308\n",
       "1611     전라남도  2021  11   9764.7  1782951  1008000  335\n",
       "1612     경상북도  2021  11  10434.6  2640965  1457000  345\n",
       "1613     경상남도  2021  11  10692.0  3317568  1805000  339\n",
       "1614  제주특별자치도  2021  11  22638.0   673189   395000  290\n",
       "\n",
       "[1615 rows x 7 columns]"
      ]
     },
     "execution_count": 24,
     "metadata": {},
     "output_type": "execute_result"
    }
   ],
   "source": [
    "df_test"
   ]
  }
 ],
 "metadata": {
  "kernelspec": {
   "display_name": "Python 3.10.6 64-bit (windows store)",
   "language": "python",
   "name": "python3"
  },
  "language_info": {
   "codemirror_mode": {
    "name": "ipython",
    "version": 3
   },
   "file_extension": ".py",
   "mimetype": "text/x-python",
   "name": "python",
   "nbconvert_exporter": "python",
   "pygments_lexer": "ipython3",
   "version": "3.10.6"
  },
  "orig_nbformat": 4,
  "vscode": {
   "interpreter": {
    "hash": "614ab989cdc66a649d1bb5ae325f2f1314093ceadee94b2deaa33c97b811aaf8"
   }
  }
 },
 "nbformat": 4,
 "nbformat_minor": 2
}
